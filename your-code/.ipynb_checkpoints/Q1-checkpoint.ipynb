{
 "cells": [
  {
   "cell_type": "markdown",
   "metadata": {},
   "source": [
    "In the cell below, create a Python function that wraps your previous solution for the Bag of Words lab.\n",
    "\n",
    "Requirements:\n",
    "\n",
    "1. Your function should accept the following parameters:\n",
    "    * `docs` [REQUIRED] - array of document paths.\n",
    "    * `stop_words` [OPTIONAL] - array of stop words. The default value is an empty array.\n",
    "\n",
    "1. Your function should return a Python object that contains the following:\n",
    "    * `bag_of_words` - array of strings of normalized unique words in the corpus.\n",
    "    * `term_freq` - array of the term-frequency vectors."
   ]
  },
  {
   "cell_type": "code",
   "execution_count": 1,
   "metadata": {},
   "outputs": [],
   "source": [
    "# Import required libraries\n",
    "import os\n",
    "import re\n",
    "#stop_words = ['all', 'six', 'less', 'being', 'indeed', 'over', 'move', 'anyway', 'fifty', 'four', 'not', 'own', 'through', 'yourselves', 'go', 'where', 'mill', 'only', 'find', 'before', 'one', 'whose', 'system', 'how', 'somewhere', 'with', 'thick', 'show', 'had', 'enough', 'should', 'to', 'must', 'whom', 'seeming', 'under', 'ours', 'has', 'might', 'thereafter', 'latterly', 'do', 'them', 'his', 'around', 'than', 'get', 'very', 'de', 'none', 'cannot', 'every', 'whether', 'they', 'front', 'during', 'thus', 'now', 'him', 'nor', 'name', 'several', 'hereafter', 'always', 'who', 'cry', 'whither', 'this', 'someone', 'either', 'each', 'become', 'thereupon', 'sometime', 'side', 'two', 'therein', 'twelve', 'because', 'often', 'ten', 'our', 'eg', 'some', 'back', 'up', 'namely', 'towards', 'are', 'further', 'beyond', 'ourselves', 'yet', 'out', 'even', 'will', 'what', 'still', 'for', 'bottom', 'mine', 'since', 'please', 'forty', 'per', 'its', 'everything', 'behind', 'un', 'above', 'between', 'it', 'neither', 'seemed', 'ever', 'across', 'she', 'somehow', 'be', 'we', 'full', 'never', 'sixty', 'however', 'here', 'otherwise', 'were', 'whereupon', 'nowhere', 'although', 'found', 'alone', 're', 'along', 'fifteen', 'by', 'both', 'about', 'last', 'would', 'anything', 'via', 'many', 'could', 'thence', 'put', 'against', 'keep', 'etc', 'amount', 'became', 'ltd', 'hence', 'onto', 'or', 'con', 'among', 'already', 'co', 'afterwards', 'formerly', 'within', 'seems', 'into', 'others', 'while', 'whatever', 'except', 'down', 'hers', 'everyone', 'done', 'least', 'another', 'whoever', 'moreover', 'couldnt', 'throughout', 'anyhow', 'yourself', 'three', 'from', 'her', 'few', 'together', 'top', 'there', 'due', 'been', 'next', 'anyone', 'eleven', 'much', 'call', 'therefore', 'interest', 'then', 'thru', 'themselves', 'hundred', 'was', 'sincere', 'empty', 'more', 'himself', 'elsewhere', 'mostly', 'on', 'fire', 'am', 'becoming', 'hereby', 'amongst', 'else', 'part', 'everywhere', 'too', 'herself', 'former', 'those', 'he', 'me', 'myself', 'made', 'twenty', 'these', 'bill', 'cant', 'us', 'until', 'besides', 'nevertheless', 'below', 'anywhere', 'nine', 'can', 'of', 'your', 'toward', 'my', 'something', 'and', 'whereafter', 'whenever', 'give', 'almost', 'wherever', 'is', 'describe', 'beforehand', 'herein', 'an', 'as', 'itself', 'at', 'have', 'in', 'seem', 'whence', 'ie', 'any', 'fill', 'again', 'hasnt', 'inc', 'thereby', 'thin', 'no', 'perhaps', 'latter', 'meanwhile', 'when', 'detail', 'same', 'wherein', 'beside', 'also', 'that', 'other', 'take', 'which', 'becomes', 'you', 'if', 'nobody', 'see', 'though', 'may', 'after', 'upon', 'most', 'hereupon', 'eight', 'but', 'serious', 'nothing', 'such', 'why', 'a', 'off', 'whereby', 'third', 'i', 'whole', 'noone', 'sometimes', 'well', 'amoungst', 'yours', 'their', 'rather', 'without', 'so', 'five', 'the', 'first', 'whereas', 'once']\n",
    "\n",
    "# Write your code here\n",
    "\n",
    "def load_corpus(docs):\n",
    "    ''' Load process of txt files sorted '''\n",
    "    lst_files = [x for x in docs]\n",
    "    lst_files.sort()\n",
    "    corpus = [open(x, \"r\").readlines() for x in lst_files]\n",
    "    corpus = [x[0] for x in corpus]\n",
    "    return corpus\n",
    "\n",
    "\n",
    "def polish_corpus(corpus):\n",
    "    ''' Clean punctuation '''\n",
    "    ret = [w.lower() for w in corpus]\n",
    "    ret = [re.sub('[^a-z ]','',w) for w in ret]\n",
    "    return ret\n",
    "\n",
    "\n",
    "def corpus_to_bag(corpus):\n",
    "    ''' Shift the corpus to a bag of words'''\n",
    "    bow = []\n",
    "    for phr in corpus:\n",
    "        for w in phr.split():\n",
    "            if w not in bow:\n",
    "                bow.append(w)\n",
    "    return bow\n",
    "\n",
    "\n",
    "def clean_stop_words(b_o_w, stop_words):\n",
    "    ''' Get only value words '''\n",
    "    ret = []\n",
    "    for wrd in b_o_w:\n",
    "        if wrd not in stop_words:\n",
    "            ret.append(wrd)\n",
    "    return ret\n",
    "\n",
    "def get_matrix(bag_of_words,corpus):\n",
    "    ''' Transform bag_of_words to a matrix of frequency terms '''\n",
    "    term_freq = []\n",
    "    for phr in corpus:\n",
    "        sub_term =[]\n",
    "        for bw in bag_of_words:\n",
    "            if bw in phr.split():\n",
    "                sub_term.append(1)\n",
    "            else:\n",
    "                sub_term.append(0)\n",
    "        term_freq.append(sub_term)\n",
    "    return term_freq\n",
    "\n",
    "# Define function\n",
    "def get_bow_from_docs(docs, stop_words=[]):\n",
    "    corpus = load_corpus(docs)\n",
    "    \n",
    "    # In the function, first define the variables you will use such as `corpus`, `bag_of_words`, and `term_freq`.\n",
    "    \n",
    "    corpus = polish_corpus(corpus)\n",
    "    print(corpus)\n",
    "    bag_of_words = corpus_to_bag(corpus)\n",
    "    \n",
    "    if stop_words:\n",
    "        bag_of_words = clean_stop_words(bag_of_words, stop_words)\n",
    "    \n",
    "    term_freq = get_matrix(bag_of_words,corpus)\n",
    "    \"\"\"\n",
    "    Loop `docs` and read the content of each doc into a string in `corpus`.\n",
    "    Remember to convert the doc content to lowercases and remove punctuation.\n",
    "    \"\"\"\n",
    "\n",
    "    \n",
    "    \n",
    "    \"\"\"\n",
    "    Loop `corpus`. Append the terms in each doc into the `bag_of_words` array. The terms in `bag_of_words` \n",
    "    should be unique which means before adding each term you need to check if it's already added to the array.\n",
    "    In addition, check if each term is in the `stop_words` array. Only append the term to `bag_of_words`\n",
    "    if it is not a stop word.\n",
    "    \"\"\"\n",
    "\n",
    "    \n",
    "    \n",
    "    \n",
    "    \"\"\"\n",
    "    Loop `corpus` again. For each doc string, count the number of occurrences of each term in `bag_of_words`. \n",
    "    Create an array for each doc's term frequency and append it to `term_freq`.\n",
    "    \"\"\"\n",
    "\n",
    "    \n",
    "    \n",
    "    # Now return your output as an object\n",
    "    return {\n",
    "        \"bag_of_words\": bag_of_words,\n",
    "        \"term_freq\": term_freq\n",
    "    }\n"
   ]
  },
  {
   "cell_type": "markdown",
   "metadata": {},
   "source": [
    "Test your function without stop words. You should see the output like below:\n",
    "\n",
    "```{'bag_of_words': ['ironhack', 'is', 'cool', 'i', 'love', 'am', 'a', 'student', 'at'], 'term_freq': [[1, 1, 1, 0, 0, 0, 0, 0, 0], [1, 0, 0, 1, 1, 0, 0, 0, 0], [1, 0, 0, 1, 0, 1, 1, 1, 1]]}```"
   ]
  },
  {
   "cell_type": "code",
   "execution_count": 2,
   "metadata": {},
   "outputs": [
    {
     "name": "stdout",
     "output_type": "stream",
     "text": [
      "['ironhack is cool', 'i love ironhack', 'i am a student at ironhack']\n",
      "{'bag_of_words': ['ironhack', 'is', 'cool', 'i', 'love', 'am', 'a', 'student', 'at'], 'term_freq': [[1, 1, 1, 0, 0, 0, 0, 0, 0], [1, 0, 0, 1, 1, 0, 0, 0, 0], [1, 0, 0, 1, 0, 1, 1, 1, 1]]}\n"
     ]
    }
   ],
   "source": [
    "# Define doc paths array\n",
    "docs = ['../../lab-string-operations/your-code/doc1.txt','../../lab-string-operations/your-code/doc2.txt','../../lab-string-operations/your-code/doc3.txt']\n",
    "\n",
    "# Obtain BoW from your function\n",
    "bow = get_bow_from_docs(docs)\n",
    "\n",
    "# Print BoW\n",
    "print(bow)"
   ]
  },
  {
   "cell_type": "markdown",
   "metadata": {},
   "source": [
    "If your attempt above is successful, nice work done!\n",
    "\n",
    "Now test your function again with the stop words. In the previous lab we defined the stop words in a large array. In this lab, we'll import the stop words from Scikit-Learn."
   ]
  },
  {
   "cell_type": "code",
   "execution_count": 3,
   "metadata": {},
   "outputs": [
    {
     "name": "stdout",
     "output_type": "stream",
     "text": [
      "Requirement already satisfied: sklearn in /anaconda3/lib/python3.6/site-packages (0.0)\n",
      "Requirement already satisfied: scikit-learn in /anaconda3/lib/python3.6/site-packages (from sklearn) (0.21.2)\n",
      "Requirement already satisfied: numpy>=1.11.0 in /anaconda3/lib/python3.6/site-packages (from scikit-learn->sklearn) (1.16.4)\n",
      "Requirement already satisfied: scipy>=0.17.0 in /anaconda3/lib/python3.6/site-packages (from scikit-learn->sklearn) (1.3.0)\n",
      "Requirement already satisfied: joblib>=0.11 in /anaconda3/lib/python3.6/site-packages (from scikit-learn->sklearn) (0.13.2)\n",
      "frozenset({'hence', 'many', 'above', 'nowhere', 'thereby', 'thick', 'twelve', 'other', 'get', 'together', 'whereby', 'within', 'yourself', 'sixty', 'please', 'besides', 'due', 'hereupon', 'otherwise', 'ever', 'thence', 'along', 'hereafter', 'however', 'somehow', 'not', 'both', 'part', 'describe', 'inc', 'our', 'full', 'on', 'one', 'they', 'side', 'we', 'whenever', 'an', 'anyway', 'could', 'nobody', 'several', 'for', 'twenty', 'beforehand', 'i', 'front', 'when', 'she', 'to', 'mill', 'would', 'well', 'noone', 'sincere', 'first', 'through', 'sometime', 'via', 'whom', 'seems', 'each', 'into', 'your', 'their', 'ltd', 'became', 'interest', 'moreover', 'the', 'anywhere', 'must', 'you', 'among', 'else', 'eight', 'formerly', 'mostly', 'give', 'whether', 'himself', 'was', 'con', 'detail', 'becoming', 'amongst', 'bottom', 'fill', 'show', 'nor', 'themselves', 'them', 'cry', 'same', 'after', 'nine', 'thereafter', 'upon', 'might', 'often', 'then', 'already', 'beyond', 'hereby', 'made', 'myself', 'whereupon', 'him', 'namely', 'wherever', 'found', 'less', 'everyone', 'take', 'hers', 'has', 'never', 'will', 'where', 'keep', 'from', 'have', 'am', 'enough', 'whose', 'yourselves', 'per', 'toward', 'some', 'herself', 'becomes', 'others', 'something', 'last', 'alone', 'now', 'since', 'four', 'nevertheless', 'seem', 'somewhere', 'again', 'those', 'us', 'whole', 'my', 'thru', 'were', 'out', 'too', 'as', 'no', 'off', 'than', 'do', 'thin', 'thus', 'herein', 'is', 'least', 'these', 'me', 'its', 'under', 'all', 'ours', 'in', 'whence', 'anyhow', 'beside', 'name', 'who', 'whatever', 'he', 'elsewhere', 'un', 'across', 'ie', 'over', 'his', 'yet', 'amoungst', 'but', 'move', 'are', 'there', 'put', 'everywhere', 'around', 'though', 'until', 'why', 'onto', 'also', 'her', 'much', 'own', 'bill', 'anything', 'become', 'and', 'before', 'it', 'whereas', 'can', 'here', 'or', 'more', 'sometimes', 'behind', 'by', 'may', 'two', 'perhaps', 'three', 'yours', 'about', 'couldnt', 'always', 'anyone', 'with', 'should', 'five', 'being', 'find', 'such', 'fire', 'done', 'either', 'towards', 'very', 'so', 'whoever', 'between', 'empty', 'throughout', 'de', 'seemed', 'see', 'wherein', 'whereafter', 'itself', 'because', 'latterly', 'few', 'mine', 'ourselves', 'except', 're', 'almost', 'ten', 'this', 'if', 'meanwhile', 'everything', 'while', 'etc', 'nothing', 'without', 'only', 'eleven', 'been', 'hundred', 'that', 'call', 'neither', 'although', 'former', 'therein', 'cant', 'forty', 'further', 'latter', 'co', 'back', 'serious', 'third', 'what', 'six', 'cannot', 'fifty', 'up', 'at', 'had', 'thereupon', 'whither', 'even', 'amount', 'against', 'eg', 'fifteen', 'once', 'another', 'below', 'how', 'during', 'most', 'down', 'someone', 'still', 'every', 'go', 'indeed', 'seeming', 'top', 'system', 'a', 'any', 'therefore', 'none', 'be', 'next', 'hasnt', 'which', 'of', 'afterwards', 'rather'})\n"
     ]
    }
   ],
   "source": [
    "!pip install sklearn\n",
    "from sklearn.feature_extraction import stop_words\n",
    "print(stop_words.ENGLISH_STOP_WORDS)"
   ]
  },
  {
   "cell_type": "markdown",
   "metadata": {},
   "source": [
    "You should have seen a large list of words that looks like:\n",
    "\n",
    "```frozenset({'across', 'mine', 'cannot', ...})```\n",
    "\n",
    "`frozenset` is a type of Python object that is immutable. In this lab you can use it just like an array without conversion."
   ]
  },
  {
   "cell_type": "markdown",
   "metadata": {},
   "source": [
    "Next, test your function with supplying `stop_words.ENGLISH_STOP_WORDS` as the second parameter."
   ]
  },
  {
   "cell_type": "code",
   "execution_count": 5,
   "metadata": {},
   "outputs": [
    {
     "name": "stdout",
     "output_type": "stream",
     "text": [
      "['ironhack is cool', 'i love ironhack', 'i am a student at ironhack']\n",
      "{'bag_of_words': ['ironhack', 'cool', 'love', 'student'], 'term_freq': [[1, 1, 0, 0], [1, 0, 1, 0], [1, 0, 0, 1]]}\n"
     ]
    }
   ],
   "source": [
    "bow = get_bow_from_docs(docs, stop_words.ENGLISH_STOP_WORDS)\n",
    "\n",
    "print(bow)"
   ]
  },
  {
   "cell_type": "markdown",
   "metadata": {},
   "source": [
    "You should have seen:\n",
    "\n",
    "```{'bag_of_words': ['ironhack', 'cool', 'love', 'student'], 'term_freq': [[1, 1, 0, 0], [1, 0, 1, 0], [1, 0, 0, 1]]}```"
   ]
  },
  {
   "cell_type": "code",
   "execution_count": null,
   "metadata": {},
   "outputs": [],
   "source": []
  }
 ],
 "metadata": {
  "kernelspec": {
   "display_name": "Python 3",
   "language": "python",
   "name": "python3"
  },
  "language_info": {
   "codemirror_mode": {
    "name": "ipython",
    "version": 3
   },
   "file_extension": ".py",
   "mimetype": "text/x-python",
   "name": "python",
   "nbconvert_exporter": "python",
   "pygments_lexer": "ipython3",
   "version": "3.6.8"
  }
 },
 "nbformat": 4,
 "nbformat_minor": 2
}
